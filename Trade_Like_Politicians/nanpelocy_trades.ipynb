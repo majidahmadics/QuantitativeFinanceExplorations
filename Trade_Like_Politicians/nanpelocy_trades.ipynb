{
  "nbformat": 4,
  "nbformat_minor": 0,
  "metadata": {
    "colab": {
      "provenance": [],
      "authorship_tag": "ABX9TyMANxv4A9Za+VDvH88iSXkk",
      "include_colab_link": true
    },
    "kernelspec": {
      "name": "python3",
      "display_name": "Python 3"
    },
    "language_info": {
      "name": "python"
    }
  },
  "cells": [
    {
      "cell_type": "markdown",
      "metadata": {
        "id": "view-in-github",
        "colab_type": "text"
      },
      "source": [
        "<a href=\"https://colab.research.google.com/github/majidahmadics/QuantitativeFinanceExplorations/blob/main/Trade_Like_Politicians/nanpelocy_trades.ipynb\" target=\"_parent\"><img src=\"https://colab.research.google.com/assets/colab-badge.svg\" alt=\"Open In Colab\"/></a>"
      ]
    },
    {
      "cell_type": "code",
      "source": [
        "import csv, json, zipfile\n",
        "import requests, PyPDF2"
      ],
      "metadata": {
        "id": "2v7dj2DnIRXf"
      },
      "execution_count": 12,
      "outputs": []
    },
    {
      "cell_type": "code",
      "source": [
        "import fitz"
      ],
      "metadata": {
        "id": "IC6jS1X6Oycb"
      },
      "execution_count": 13,
      "outputs": []
    },
    {
      "cell_type": "code",
      "source": [
        "zip_file_url = 'https://disclosures-clerk.house.gov/public_disc/financial-pdfs/2024FD.zip'\n",
        "pdf_file_url = 'https://disclosures-clerk.house.gov/public_disc/ptr-pdfs/2024/'"
      ],
      "metadata": {
        "id": "RQ93i7UqIdO5"
      },
      "execution_count": 14,
      "outputs": []
    },
    {
      "cell_type": "code",
      "source": [
        "r = requests.get(zip_file_url)"
      ],
      "metadata": {
        "id": "-LcUx9VVJOqn"
      },
      "execution_count": 15,
      "outputs": []
    },
    {
      "cell_type": "code",
      "source": [
        "zipfile_name = \"2024.zip\""
      ],
      "metadata": {
        "id": "iT0uk7sSJjvu"
      },
      "execution_count": 16,
      "outputs": []
    },
    {
      "cell_type": "code",
      "source": [
        "with open(zipfile_name, 'wb') as f:\n",
        "  f.write(r.content)"
      ],
      "metadata": {
        "id": "Ef_qJ-4iJWcK"
      },
      "execution_count": 17,
      "outputs": []
    },
    {
      "cell_type": "code",
      "source": [
        "with zipfile.ZipFile(zipfile_name) as z:\n",
        "  z.extractall('.')"
      ],
      "metadata": {
        "id": "AVr_rxRXKM68"
      },
      "execution_count": 18,
      "outputs": []
    },
    {
      "cell_type": "code",
      "source": [
        "with open('2024FD.txt') as f:\n",
        "  for line in csv.reader(f, delimiter='\\t'):\n",
        "    if line[1] == 'Pelosi':\n",
        "      date = line[7]\n",
        "      doc_id = line[8]\n",
        "\n",
        "      r = requests.get(f\"{pdf_file_url}{doc_id}.pdf\")\n",
        "\n",
        "      with open(f\"{doc_id}.pdf\", \"wb\") as pdf_file:\n",
        "        pdf_file.write(r.content)\n",
        "\n",
        "        doc = fitz.open(f\"{doc_id}.pdf\")\n",
        "        page = doc.load_page(page_id=0)\n",
        "        json_data = page.get_text('json')\n",
        "        print(json_data)"
      ],
      "metadata": {
        "id": "lIpMT1XGEqLh"
      },
      "execution_count": null,
      "outputs": []
    }
  ]
}